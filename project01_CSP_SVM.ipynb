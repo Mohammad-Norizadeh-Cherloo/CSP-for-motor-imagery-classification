{
 "cells": [
  {
   "cell_type": "markdown",
   "id": "5ed2331e",
   "metadata": {},
   "source": [
    "## **Motor imagery classificaiton using commom spatial patterns (CSP) and SVMs**\n",
    "by    Mohammad Norizadeh Cherloo, \n",
    "\n",
    "*Reference:Ensemble Regularized Common Spatio-Spectral Pattern (ensemble RCSSP) \n",
    "model for motor imagery-based EEG signal classification*"
   ]
  },
  {
   "cell_type": "markdown",
   "id": "28212ec7",
   "metadata": {},
   "source": [
    "## **import necessary libraries**  "
   ]
  },
  {
   "cell_type": "code",
   "execution_count": 74,
   "id": "63088f66",
   "metadata": {},
   "outputs": [],
   "source": [
    "import numpy as np\n",
    "from scipy.linalg import eig\n",
    "from scipy import io as sio\n",
    "from scipy.signal import butter,filtfilt\n",
    "# import signal as sig\n",
    "from matplotlib import pyplot as plt\n",
    "from sklearn.svm import SVC\n",
    "from sklearn import metrics"
   ]
  },
  {
   "cell_type": "markdown",
   "id": "d2217a29",
   "metadata": {},
   "source": [
    "## **define commom spatial patterns (CSP) function**"
   ]
  },
  {
   "cell_type": "code",
   "execution_count": 75,
   "id": "79a51952",
   "metadata": {},
   "outputs": [],
   "source": [
    "def CSP(data0,data1,m):\n",
    "    Rc0=0\n",
    "    # Step 1: Fetching class 1 trials in every iteration.The range of loop is the number of trials.\n",
    "    for i in range(data0.shape[0]):\n",
    "        x0= data0[i].T\n",
    "        # step 2:  Normalizing data. The range of loop is the number of channals.\n",
    "        for j in range(x0.shape[0]):\n",
    "            x0[j,:]= x0[j,:]- np.mean(x0[j,:],axis=0)\n",
    "        \n",
    "        # step 3: Calculating covarians matrix for all trials.\n",
    "        rc0= (x0@x0.T)/np.trace(x0@x0.T)\n",
    "        Rc0+=rc0\n",
    "    # Step 4: Calculating covarians matrix mean.\n",
    "    Rc0 =Rc0/data0.shape[0]\n",
    "    \n",
    "    Rc1=0\n",
    "    # Step 1: Fetching class 2 trials in every iteration.The range of loop is the number of trials.\n",
    "    for i in range(data1.shape[0]):\n",
    "        x1= data1[i].T\n",
    "        # step 2:  Normalizing data. The range of loop is the number of channals.\n",
    "        for j in range(x1.shape[0]):\n",
    "            x1[j,:]= x1[j,:]- np.mean(x1[j,:],axis=0)\n",
    "        \n",
    "        # step 3: Calculating covarians matrix for all trials.\n",
    "        rc1= (x1@x1.T)/np.trace(x1@x1.T)\n",
    "        Rc1+=rc1    \n",
    "    # Step 4: Calculating covarians matrix mean.\n",
    "    Rc1 =Rc1/data1.shape[0]\n",
    "    \n",
    "    # Step5: Calculating generalized eign value decompozition\n",
    "    V,U= eig(Rc0,Rc1)\n",
    "    \n",
    "    # sorting (descending) eign vectors\n",
    "    ind= np.argsort(-V)\n",
    "    U= U[:,ind]\n",
    "    # selecting m most importan spatial fileters for class 0\n",
    "    u_first= U[:,:m]\n",
    "    # selecting m most importan spatial fileters for class 1\n",
    "    u_last= U[:,-1-m+1:]\n",
    "    # concatenating selected spatial filters \n",
    "    w= np.concatenate((u_first,u_last),axis=1).T\n",
    "    return w      "
   ]
  },
  {
   "cell_type": "markdown",
   "id": "7759ea97",
   "metadata": {},
   "source": [
    "## **load  BCI competition III Dataset Iva**\n",
    "a 2-class motor imagery dataset"
   ]
  },
  {
   "cell_type": "code",
   "execution_count": 76,
   "id": "a9485918",
   "metadata": {},
   "outputs": [
    {
     "name": "stderr",
     "output_type": "stream",
     "text": [
      "C:\\Users\\Cherloo\\AppData\\Local\\Temp\\ipykernel_7476\\2605832373.py:16: RuntimeWarning: invalid value encountered in cast\n",
      "  group= np.array(group,dtype=np.int64)\n"
     ]
    }
   ],
   "source": [
    "subject= ['a','l','v','w','y']\n",
    "sbj=3\n",
    "\n",
    "# load train dataset\n",
    "filename= 'dataset\\data_set_IVa_a'+subject[sbj]+ '.mat'\n",
    "\n",
    "ds= sio.loadmat(filename)\n",
    "# ds.keys()\n",
    "cnt= ds['cnt']\n",
    "mrk= ds['mrk']\n",
    "nfo= ds['nfo']\n",
    "cnt= np.array(cnt,dtype=np.float64)\n",
    "\n",
    "\n",
    "group= mrk[0]['y'][0].ravel()\n",
    "group= np.array(group,dtype=np.int64)\n",
    "\n",
    "pos= mrk[0]['pos'][0].ravel()\n",
    "pos= np.array(pos,dtype=np.int64)-1\n",
    "\n",
    "fs= nfo[0]['fs'][0].ravel()\n",
    "fs= np.array(fs,dtype=np.float64)\n",
    "\n",
    "# load test dataset's true labels  \n",
    "\n",
    "filename2= 'dataset\\\\true_labels_a'+subject[sbj]+ '.mat'\n",
    "ds= sio.loadmat(filename2)\n",
    "test_idx= ds['test_idx'][0]\n",
    "test_idx= np.array(test_idx,dtype=np.int64)-1\n",
    "y_true= ds['true_y'][0]\n",
    "y_true= np.array(y_true,dtype=np.int64)  \n",
    "# ds.keys()\n",
    "# 'test_idx', 'true_y'"
   ]
  },
  {
   "cell_type": "markdown",
   "id": "4716a740",
   "metadata": {},
   "source": [
    "## **design and apply a band-pass filter on dataset**\n",
    "for this dataset 8-17Hz is better;however, for most datasets 8-30Hz works better.\n",
    "you need to find a better bandpass frequency range for your dataset"
   ]
  },
  {
   "cell_type": "code",
   "execution_count": 77,
   "id": "45e9e65c",
   "metadata": {},
   "outputs": [],
   "source": [
    "b,a= butter(N=4,Wn= [8/(fs/2),17/(fs/2)],btype='bandpass')\n",
    "cnt= filtfilt(b,a,cnt,axis=0)"
   ]
  },
  {
   "cell_type": "markdown",
   "id": "d578ee51",
   "metadata": {},
   "source": [
    "## **segment training and testing dataset based on their locations and true labels** "
   ]
  },
  {
   "cell_type": "code",
   "execution_count": 78,
   "id": "062003a5",
   "metadata": {},
   "outputs": [
    {
     "name": "stdout",
     "output_type": "stream",
     "text": [
      "(30, 400, 118) (26, 400, 118)\n",
      "(111, 400, 118) (113, 400, 118)\n",
      "n_trials x n_sample_points x n_channels\n"
     ]
    }
   ],
   "source": [
    "Ltr= np.array(4* fs,dtype=np.int64)[0]\n",
    "traindata0=[]\n",
    "traindata1=[]\n",
    "y_train0=[]\n",
    "y_train1=[]\n",
    "for i in range(group.shape[0]):\n",
    "    # print(pos[i])\n",
    "    position= list(range(pos[i],pos[i]+Ltr,1))\n",
    "    # print(pos[i],position[0],position[-1])\n",
    "    trial= cnt[position,:]\n",
    "    type= group[i]\n",
    "    if type==1:\n",
    "        traindata0.append(trial)\n",
    "        y_train0.append(0)\n",
    "    elif type ==2:\n",
    "        traindata1.append(trial)\n",
    "        y_train1.append(1)\n",
    "        \n",
    "traindata0= np.array(traindata0)\n",
    "traindata1= np.array(traindata1)\n",
    "y_train0= np.array(y_train0)\n",
    "y_train1= np.array(y_train1)\n",
    "\n",
    "\n",
    "testdata0=[]\n",
    "testdata1=[]\n",
    "y_test0=[]\n",
    "y_test1=[]\n",
    "for i in test_idx:\n",
    "    # print(pos[i])\n",
    "    position= list(range(pos[i],pos[i]+Ltr,1))\n",
    "    # print(pos[i],position[0],position[-1])\n",
    "    trial= cnt[position,:]\n",
    "    type= y_true[i]\n",
    "    if type==1:\n",
    "        testdata0.append(trial)\n",
    "        y_test0.append(0)\n",
    "    elif type ==2:\n",
    "        testdata1.append(trial)\n",
    "        y_test1.append(1)\n",
    "        \n",
    "testdata0= np.array(testdata0)\n",
    "testdata1= np.array(testdata1)\n",
    "\n",
    "y_test0= np.array(y_test0)\n",
    "y_test1= np.array(y_test1)\n",
    "\n",
    "print(traindata0.shape, traindata1.shape)\n",
    "print(testdata0.shape, testdata1.shape)\n",
    "print ('n_trials x n_sample_points x n_channels')"
   ]
  },
  {
   "cell_type": "markdown",
   "id": "223a2f80",
   "metadata": {},
   "source": [
    "## **calculate common spatial filters using training dataset**"
   ]
  },
  {
   "cell_type": "code",
   "execution_count": 79,
   "id": "1935e1b3",
   "metadata": {},
   "outputs": [],
   "source": [
    "m=1\n",
    "w= CSP(data0=traindata0,data1=traindata1,m=m)"
   ]
  },
  {
   "cell_type": "markdown",
   "id": "62f23ef5",
   "metadata": {},
   "source": [
    "## **Apply filters and extract features from training and testing datasets**"
   ]
  },
  {
   "cell_type": "code",
   "execution_count": 80,
   "id": "167237d6",
   "metadata": {},
   "outputs": [],
   "source": [
    "traindata= np.concatenate((traindata0,traindata1),axis=0)\n",
    "y_train= np.concatenate((y_train0,y_train1),axis=0)\n",
    "\n",
    "f_train= np.zeros((traindata.shape[0],m*2))\n",
    "for i in range(traindata.shape[0]):\n",
    "    x= traindata[i].T\n",
    "    y= w@x\n",
    "    tp= np.var(y,axis=1).ravel()\n",
    "    f_train[i,:]= tp\n",
    "\n",
    "\n",
    "testdata= np.concatenate((testdata0,testdata1),axis=0)\n",
    "y_test= np.concatenate((y_test0,y_test1),axis=0)\n",
    "\n",
    "f_test= np.zeros((testdata.shape[0],m*2))\n",
    "for i in range(testdata.shape[0]):\n",
    "    x= testdata[i].T\n",
    "    y= w@x\n",
    "    tp= np.var(y,axis=1).ravel()\n",
    "    f_test[i,:]= tp\n",
    "    "
   ]
  },
  {
   "cell_type": "markdown",
   "id": "176294fb",
   "metadata": {},
   "source": [
    "## **Ploting feature space for trianing and testing dataset (optional)**"
   ]
  },
  {
   "cell_type": "code",
   "execution_count": 81,
   "id": "16930dfe",
   "metadata": {},
   "outputs": [
    {
     "data": {
      "image/png": "[encoded data removed]",
      "text/plain": [
       "<Figure size 640x480 with 2 Axes>"
      ]
     },
     "metadata": {},
     "output_type": "display_data"
    }
   ],
   "source": [
    "plt.subplot(2,2,1)\n",
    "plt.plot(f_train[y_train==0,0],f_train[y_train==0,1],'or')\n",
    "plt.plot(f_train[y_train==1,0],f_train[y_train==1,1],'sk')\n",
    "plt.title('train dataset feature space')\n",
    "plt.subplot(2,2,2)\n",
    "plt.plot(f_test[y_test==0,0],f_test[y_test==0,1],'or')\n",
    "plt.plot(f_test[y_test==1,0],f_test[y_test==1,1],'sk')\n",
    "plt.title('test dataset feature space')\n",
    "plt.show()"
   ]
  },
  {
   "cell_type": "markdown",
   "id": "06795f7c",
   "metadata": {},
   "source": [
    "## **Classify data using a linear SVM**"
   ]
  },
  {
   "cell_type": "code",
   "execution_count": 82,
   "id": "21d727ea",
   "metadata": {},
   "outputs": [],
   "source": [
    "model= SVC(kernel='linear',C=1000)\n",
    "model.fit(f_train,y_train)\n",
    "y_pred= model.predict(f_test)"
   ]
  },
  {
   "cell_type": "markdown",
   "id": "1288c84c",
   "metadata": {},
   "source": [
    "## **Evaluate model**"
   ]
  },
  {
   "cell_type": "code",
   "execution_count": 83,
   "id": "79a1c2fc",
   "metadata": {},
   "outputs": [
    {
     "name": "stdout",
     "output_type": "stream",
     "text": [
      "Total Accuracy: 92.411%\n",
      "Accuracy 0:     88.288%\n",
      "Accuracy 1:     96.460%\n"
     ]
    },
    {
     "data": {
      "image/png": "[encoded data removed]",
      "text/plain": [
       "<Figure size 640x480 with 2 Axes>"
      ]
     },
     "metadata": {},
     "output_type": "display_data"
    }
   ],
   "source": [
    "accuracy = metrics.accuracy_score(y_test, y_pred)\n",
    "Cm= metrics.confusion_matrix(y_test,y_pred)\n",
    "accuracy0= Cm[0,0]/ Cm[0,:].sum()\n",
    "accuracy1= Cm[1,1]/ Cm[1,:].sum()\n",
    "\n",
    "\n",
    "disp=metrics.ConfusionMatrixDisplay(Cm)\n",
    "disp.plot()\n",
    "\n",
    "print(f'Total Accuracy: {accuracy*100:.3f}%')\n",
    "print(f'Accuracy 0:     {accuracy0*100:.3f}%')\n",
    "print(f'Accuracy 1:     {accuracy1*100:.3f}%')\n"
   ]
  }
 ],
 "metadata": {
  "kernelspec": {
   "display_name": "Python 3",
   "language": "python",
   "name": "python3"
  },
  "language_info": {
   "codemirror_mode": {
    "name": "ipython",
    "version": 3
   },
   "file_extension": ".py",
   "mimetype": "text/x-python",
   "name": "python",
   "nbconvert_exporter": "python",
   "pygments_lexer": "ipython3",
   "version": "3.10.13"
  }
 },
 "nbformat": 4,
 "nbformat_minor": 5
}
